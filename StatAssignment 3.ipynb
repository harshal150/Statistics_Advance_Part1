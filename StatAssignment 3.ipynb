{
 "cells": [
  {
   "cell_type": "markdown",
   "id": "1d9fdddf-9be0-440d-a690-d00301edb77e",
   "metadata": {},
   "source": [
    "Q1. What is the Probability density function?\n",
    "\n",
    "\n",
    "A Probability Density Function (PDF) is a mathematical function that describes the relative likelihood of a continuous random variable taking on a given value. The PDF represents the distribution of probabilities for all possible values of the random variable, and the area under the curve of the PDF between any two values of the variable gives the probability of the variable taking a value within that range.\n",
    "\n",
    "\n",
    "The PDF can be thought of as a continuous version of a probability distribution. Unlike a discrete probability distribution, which assigns a probability to each possible value of a discrete random variable, the PDF assigns probabilities to ranges of possible values of a continuous random variable.\n",
    "\n",
    "\n",
    "Mathematically, the PDF is defined as the derivative of the cumulative distribution function (CDF) of the random variable. The PDF is non-negative and integrates to one over the entire range of the random variable."
   ]
  },
  {
   "cell_type": "code",
   "execution_count": null,
   "id": "fcac59f8-508a-4dfc-a95e-510eff7ca73b",
   "metadata": {},
   "outputs": [],
   "source": []
  },
  {
   "cell_type": "markdown",
   "id": "94a8d949-c94c-4850-8e3a-c066dcba28f2",
   "metadata": {},
   "source": [
    "Q2. What are the types of Probability distribution?\n",
    "\n",
    "\n",
    "There are many different types of probability distributions, but they can be broadly classified into two categories: discrete probability distributions and continuous probability distributions.\n",
    "\n",
    "\n",
    "Discrete Probability Distributions: Discrete probability distributions are used to describe the probability of occurrence of discrete random variables. Examples of discrete probability distributions include the Bernoulli distribution, binomial distribution, Poisson distribution, and geometric distribution.\n",
    "\n",
    "\n",
    "Continuous Probability Distributions: Continuous probability distributions are used to describe the probability of occurrence of continuous random variables. Examples of continuous probability distributions include the normal distribution, uniform distribution, exponential distribution, and beta distribution.\n",
    "\n",
    "\n",
    "The choice of probability distribution depends on the nature of the data and the specific problem at hand. The appropriate distribution should be chosen to accurately model the data and to make inferences and predictions about the population of interest."
   ]
  },
  {
   "cell_type": "code",
   "execution_count": null,
   "id": "390148b4-c7c0-44a5-8abd-9546e95c741b",
   "metadata": {},
   "outputs": [],
   "source": []
  },
  {
   "cell_type": "markdown",
   "id": "f0b1f94c-7010-45d7-acf4-aa06131cef8e",
   "metadata": {},
   "source": [
    "Q3. Write a Python function to calculate the probability density function of a normal distribution with given mean and standard deviation at a given point."
   ]
  },
  {
   "cell_type": "code",
   "execution_count": 2,
   "id": "bc3985a4-db64-47c9-915a-518ef0b4e6f6",
   "metadata": {},
   "outputs": [
    {
     "name": "stdout",
     "output_type": "stream",
     "text": [
      "0.05399096651318806\n"
     ]
    }
   ],
   "source": [
    "import math\n",
    "\n",
    "def normal_pdf(x, mu, sigma):\n",
    "    \"\"\"\n",
    "    Calculates the probability density function of a normal distribution with mean mu and standard \n",
    "    deviation sigma at the point x.\n",
    "    \"\"\"\n",
    "    exponent = -0.5 * ((x - mu) / sigma) ** 2\n",
    "    coefficient = 1 / (sigma * math.sqrt(2 * math.pi))\n",
    "    return coefficient * math.exp(exponent)\n",
    "\n",
    "pdf_value = normal_pdf(x=2, mu=0, sigma=1)\n",
    "print(pdf_value)"
   ]
  },
  {
   "cell_type": "code",
   "execution_count": null,
   "id": "f3d4d739-d44b-477c-92e3-ad9434ce51ef",
   "metadata": {},
   "outputs": [],
   "source": []
  },
  {
   "cell_type": "markdown",
   "id": "d11bc15d-c38e-4fc1-9a9a-9818c57fc147",
   "metadata": {},
   "source": [
    "Q4. What are the properties of Binomial distribution? Give two examples of events where binomial distribution can be applied.\n",
    "\n",
    "\n",
    "The binomial distribution is a discrete probability distribution that describes the probability of a fixed number of successes in a fixed number of independent Bernoulli trials, where each trial has the same probability of success.\n",
    "\n",
    "\n",
    "The properties of the binomial distribution are:\n",
    "\n",
    "    \n",
    "Fixed number of trials: The number of trials is fixed and denoted by n.\n",
    "\n",
    "Independent trials: Each trial is independent of the others.\n",
    "\n",
    "Two possible outcomes: Each trial has only two possible outcomes, success or failure.\n",
    "\n",
    "Constant probability of success: The probability of success, denoted by p, is constant for all trials.\n",
    "\n",
    "Discrete values: The number of successes, denoted by k, is a discrete variable that takes values from 0 to n.\n",
    "\n",
    "\n",
    "Two examples of events where binomial distribution can be applied are:\n",
    "\n",
    "    \n",
    "Tossing a Coin: When tossing a fair coin, there are two possible outcomes - heads or tails - with a fixed probability of 0.5 for each outcome. If we toss the coin n times and want to know the probability of getting k heads, we can model this as a binomial distribution with n trials, a probability of success of 0.5, and the number of successes k.\n",
    "\n",
    "\n",
    "Manufacturing Defects: A company manufactures electronic components that have a defect rate of 2%. If we randomly sample n components from the production line and want to know the probability that k of them are defective, we can model this as a binomial distribution with n trials, a probability of success of 0.02 (the probability of a component being defective), and the number of successes k.\n",
    "\n",
    "\n",
    "In both of these examples, the binomial distribution allows us to model the probability of a fixed number of successes in a fixed number of independent trials, where each trial has the same probability of success."
   ]
  },
  {
   "cell_type": "code",
   "execution_count": null,
   "id": "fcd89a33-d741-4c84-9064-d8894de84993",
   "metadata": {},
   "outputs": [],
   "source": []
  },
  {
   "cell_type": "markdown",
   "id": "786cfe19-f377-4e78-a913-0a14b1ace2cb",
   "metadata": {},
   "source": [
    "Q5. Generate a random sample of size 1000 from a binomial distribution with probability of success 0.4 and plot a histogram of the results using matplotlib."
   ]
  },
  {
   "cell_type": "code",
   "execution_count": 3,
   "id": "ebcfceb9-151d-40a6-8fe2-e44a696ecc63",
   "metadata": {},
   "outputs": [
    {
     "data": {
      "image/png": "[encoded data removed]",
      "text/plain": [
       "<Figure size 640x480 with 1 Axes>"
      ]
     },
     "metadata": {},
     "output_type": "display_data"
    }
   ],
   "source": [
    "import numpy as np\n",
    "import matplotlib.pyplot as plt\n",
    "\n",
    "# Set the parameters of the binomial distribution\n",
    "n = 10\n",
    "p = 0.4\n",
    "\n",
    "# Generate a random sample of size 1000 from the binomial distribution\n",
    "sample = np.random.binomial(n, p, size=1000)\n",
    "\n",
    "# Plot a histogram of the results\n",
    "plt.hist(sample, bins=range(n+1), align='left', rwidth=0.8)\n",
    "plt.xticks(range(n))\n",
    "plt.xlabel('Number of Successes')\n",
    "plt.ylabel('Frequency')\n",
    "plt.title('Histogram of Binomial Distribution (n={}, p={})'.format(n, p))\n",
    "plt.show()"
   ]
  },
  {
   "cell_type": "code",
   "execution_count": null,
   "id": "b9deb5ca-f729-49c2-a873-bbffbdfed89f",
   "metadata": {},
   "outputs": [],
   "source": []
  },
  {
   "cell_type": "markdown",
   "id": "ae0e79c6-6420-49a7-ae22-470e90723bef",
   "metadata": {},
   "source": [
    "\n",
    "Q6. Write a Python function to calculate the cumulative distribution function of a Poisson distribution with given mean at a given point."
   ]
  },
  {
   "cell_type": "code",
   "execution_count": 6,
   "id": "cbd547a0-d42a-4c7b-a1e4-979f3f859dc1",
   "metadata": {},
   "outputs": [
    {
     "name": "stdout",
     "output_type": "stream",
     "text": [
      "The cumulative of a Poisson distribution with mean 2.5 at point 3 is 0.7576\n"
     ]
    }
   ],
   "source": [
    "import math\n",
    "\n",
    "def poisson_cdf(mu, k):\n",
    "    cdf = 0.0\n",
    "    for i in range(k+1):\n",
    "        cdf += math.exp(-mu) * (mu ** i) / math.factorial(i)\n",
    "    return cdf\n",
    "mu = 2.5\n",
    "k = 3\n",
    "cdf = poisson_cdf(mu, k)\n",
    "print(\"The cumulative of a Poisson distribution with mean {} at point {} is {:.4f}\".format(mu, k, cdf))"
   ]
  },
  {
   "cell_type": "code",
   "execution_count": null,
   "id": "aa8785a8-498d-4402-9746-01f3e6d43b49",
   "metadata": {},
   "outputs": [],
   "source": []
  },
  {
   "cell_type": "markdown",
   "id": "77259f56-90fd-463d-881b-d3e0bb737ed4",
   "metadata": {},
   "source": [
    "Q7. How Binomial distribution different from Poisson distribution?\n",
    "\n",
    "\n",
    "Binomial distribution and Poisson distribution are both discrete probability distributions that describe the number of events that occur in a given number of trials. However, there are some key differences between the two distributions.\n",
    "\n",
    "\n",
    "Parameters: The Binomial distribution is characterized by two parameters: the number of trials n and the probability of success p. In contrast, the Poisson distribution is characterized by one parameter: the average rate λ at which events occur.\n",
    "\n",
    "\n",
    "Application: The Binomial distribution is used to model the number of successes in a fixed number of independent trials, where the probability of success is constant across all trials. The Poisson distribution, on the other hand, is used to model the number of rare events that occur over a fixed interval of time or space.\n",
    "\n",
    "\n",
    "Shape: The shape of the Binomial distribution is symmetric when p = 0.5, and becomes increasingly skewed as p approaches 0 or 1. In contrast, the Poisson distribution is typically skewed to the right, and becomes more symmetric as the rate parameter λ increases.\n",
    "\n",
    "\n",
    "Limitations: The Binomial distribution is appropriate when the number of trials n is large and the probability of success p is small, but the mean np is not too small. The Poisson distribution is appropriate when the rate parameter λ is small, but the product of the rate and the observation time or space is moderate to large.\n",
    "\n",
    "\n",
    "In summary, the main differences between the Binomial distribution and the Poisson distribution are the number of parameters, the application, the shape, and the limitations of the distributions."
   ]
  },
  {
   "cell_type": "code",
   "execution_count": null,
   "id": "b4bdeb26-d216-4993-b4d3-049f74788847",
   "metadata": {},
   "outputs": [],
   "source": []
  },
  {
   "cell_type": "markdown",
   "id": "859d8b26-0000-4a11-a3b2-7af139eeaf14",
   "metadata": {},
   "source": [
    "\n",
    "Q8. Generate a random sample of size 1000 from a Poisson distribution with mean 5 and calculate the sample mean and variance"
   ]
  },
  {
   "cell_type": "code",
   "execution_count": 7,
   "id": "7c420293-84a4-4e67-8784-58dbc436da3c",
   "metadata": {},
   "outputs": [
    {
     "name": "stdout",
     "output_type": "stream",
     "text": [
      "Sample mean: 4.9190\n",
      "Sample variance: 5.0304\n"
     ]
    }
   ],
   "source": [
    "import numpy as np\n",
    "\n",
    "# Set the random seed for reproducibility\n",
    "np.random.seed(123)\n",
    "\n",
    "# Generate a random sample of size 1000 from a Poisson distribution with mean 5\n",
    "sample = np.random.poisson(5, size=1000)\n",
    "\n",
    "# Calculate the sample mean and variance\n",
    "mean = np.mean(sample)\n",
    "variance = np.var(sample)\n",
    "\n",
    "print(\"Sample mean: {:.4f}\".format(mean))\n",
    "print(\"Sample variance: {:.4f}\".format(variance))"
   ]
  },
  {
   "cell_type": "code",
   "execution_count": null,
   "id": "8a5e6987-5423-43b9-8044-72b8b71a64c4",
   "metadata": {},
   "outputs": [],
   "source": []
  },
  {
   "cell_type": "markdown",
   "id": "1ee1c686-3722-4fc4-bbb7-646477c82fbb",
   "metadata": {},
   "source": [
    "Q9. How mean and variance are related in Binomial distribution and Poisson distribution?\n",
    "\n",
    "\n",
    "In both the Binomial and Poisson distributions, the mean and variance are related in a similar way.\n",
    "\n",
    "\n",
    "For the Binomial distribution with parameters n and p, the mean is given by μ = np and the variance is given by σ^2 = np(1-p). Thus, the variance is a function of both the number of trials n and the probability of success p. As p gets closer to 0 or 1, the variance decreases, reflecting the fact that the distribution becomes increasingly concentrated around the mean.\n",
    "\n",
    "\n",
    "For the Poisson distribution with parameter λ, the mean is also given by μ = λ and the variance is also given by σ^2 = λ. Thus, the variance is a function of the rate parameter λ. As λ increases, the variance also increases, reflecting the fact that the distribution becomes more spread out around the mean.\n",
    "\n",
    "\n",
    "In both distributions, when the mean is large, the variance is also large, indicating that the distribution is more spread out. Conversely, when the mean is small, the variance is also small, indicating that the distribution is more tightly clustered around the mean.\n",
    "\n",
    "\n",
    "In summary, for both the Binomial and Poisson distributions, the variance is related to the mean in a way that reflects the degree of spread or concentration of the distribution."
   ]
  },
  {
   "cell_type": "code",
   "execution_count": null,
   "id": "cc2a2919-e9cb-49bc-ba9c-acfa690e5cd3",
   "metadata": {},
   "outputs": [],
   "source": []
  },
  {
   "cell_type": "markdown",
   "id": "2b4cd9be-bc21-4ca7-96f6-53526836ae32",
   "metadata": {},
   "source": [
    "Q10. In normal distribution with respect to mean position, where does the least frequent data appear?\n",
    "\n",
    "\n",
    "In a normal distribution, the least frequent data appears at the tails of the distribution, farthest from the mean. This is because the normal distribution is symmetric and bell-shaped, with the majority of the data clustered around the mean. The tails of the distribution represent the extreme values that are less likely to occur, since they are located far away from the mean.\n",
    "\n",
    "\n",
    "Specifically, in a normal distribution with mean μ and standard deviation σ, the least frequent data appears at the values that are 3σ or more away from the mean in either direction. This is because about 99.7% of the data falls within 3σ of the mean, leaving only 0.3% of the data to be spread out across the tails of the distribution.\n",
    "\n",
    "\n",
    "Therefore, the least frequent data in a normal distribution appears at the extreme values that are located at the tails of the distribution, farthest from the mean."
   ]
  },
  {
   "cell_type": "code",
   "execution_count": null,
   "id": "b19b3bf8-c8b5-4d74-83ab-37f0741cb74d",
   "metadata": {},
   "outputs": [],
   "source": []
  }
 ],
 "metadata": {
  "kernelspec": {
   "display_name": "Python 3 (ipykernel)",
   "language": "python",
   "name": "python3"
  },
  "language_info": {
   "codemirror_mode": {
    "name": "ipython",
    "version": 3
   },
   "file_extension": ".py",
   "mimetype": "text/x-python",
   "name": "python",
   "nbconvert_exporter": "python",
   "pygments_lexer": "ipython3",
   "version": "3.10.8"
  }
 },
 "nbformat": 4,
 "nbformat_minor": 5
}
